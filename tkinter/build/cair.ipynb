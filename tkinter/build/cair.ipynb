{
 "cells": [
  {
   "cell_type": "code",
   "execution_count": 1,
   "metadata": {},
   "outputs": [
    {
     "ename": "ImportError",
     "evalue": "dlopen(/Users/gruenbergsebastien/.local/share/virtualenvs/website-GhAoXCCn/lib/python3.10/site-packages/cairo/_cairo.cpython-310-darwin.so, 0x0002): symbol not found in flat namespace '_cairo_font_options_get_color_mode'",
     "output_type": "error",
     "traceback": [
      "\u001b[0;31m---------------------------------------------------------------------------\u001b[0m",
      "\u001b[0;31mImportError\u001b[0m                               Traceback (most recent call last)",
      "Cell \u001b[0;32mIn[1], line 3\u001b[0m\n\u001b[1;32m      1\u001b[0m \u001b[38;5;28;01mfrom\u001b[39;00m \u001b[38;5;21;01mio\u001b[39;00m \u001b[38;5;28;01mimport\u001b[39;00m BytesIO\n\u001b[0;32m----> 3\u001b[0m \u001b[38;5;28;01mimport\u001b[39;00m \u001b[38;5;21;01mcairo\u001b[39;00m\n\u001b[1;32m      4\u001b[0m \u001b[38;5;28;01mimport\u001b[39;00m \u001b[38;5;21;01mIPython\u001b[39;00m\u001b[38;5;21;01m.\u001b[39;00m\u001b[38;5;21;01mdisplay\u001b[39;00m\n\u001b[1;32m      6\u001b[0m svgio \u001b[38;5;241m=\u001b[39m BytesIO()\n",
      "File \u001b[0;32m~/.local/share/virtualenvs/website-GhAoXCCn/lib/python3.10/site-packages/cairo/__init__.py:1\u001b[0m\n\u001b[0;32m----> 1\u001b[0m \u001b[38;5;28;01mfrom\u001b[39;00m \u001b[38;5;21;01m.\u001b[39;00m\u001b[38;5;21;01m_cairo\u001b[39;00m \u001b[38;5;28;01mimport\u001b[39;00m \u001b[38;5;241m*\u001b[39m  \u001b[38;5;66;03m# noqa: F401,F403\u001b[39;00m\n\u001b[1;32m      4\u001b[0m \u001b[38;5;28;01mdef\u001b[39;00m \u001b[38;5;21mget_include\u001b[39m():\n\u001b[1;32m      5\u001b[0m \u001b[38;5;250m    \u001b[39m\u001b[38;5;124;03m\"\"\"Returns a path to the directory containing the C header files\"\"\"\u001b[39;00m\n",
      "\u001b[0;31mImportError\u001b[0m: dlopen(/Users/gruenbergsebastien/.local/share/virtualenvs/website-GhAoXCCn/lib/python3.10/site-packages/cairo/_cairo.cpython-310-darwin.so, 0x0002): symbol not found in flat namespace '_cairo_font_options_get_color_mode'"
     ]
    }
   ],
   "source": [
    "from io import BytesIO\n",
    "\n",
    "import cairo\n",
    "import IPython.display\n",
    "\n",
    "svgio = BytesIO()\n",
    "with cairo.SVGSurface(svgio, 200, 200) as surface:\n",
    "    # These lines are copied verbatim from the\n",
    "    # pycairo page: https://pycairo.readthedocs.io\n",
    "    context = cairo.Context(surface)\n",
    "    x, y, x1, y1 = 0.1, 0.5, 0.4, 0.9\n",
    "    x2, y2, x3, y3 = 0.6, 0.1, 0.9, 0.5\n",
    "    context.scale(200, 200)\n",
    "    context.set_line_width(0.04)\n",
    "    context.move_to(x, y)\n",
    "    context.curve_to(x1, y1, x2, y2, x3, y3)\n",
    "    context.stroke()\n",
    "    context.set_source_rgba(1, 0.2, 0.2, 0.6)\n",
    "    context.set_line_width(0.02)\n",
    "    context.move_to(x, y)\n",
    "    context.line_to(x1, y1)\n",
    "    context.move_to(x2, y2)\n",
    "    context.line_to(x3, y3)\n",
    "    context.stroke()\n",
    "    # end of pycairo copy\n",
    "IPython.display.SVG(data=svgio.getvalue())"
   ]
  }
 ],
 "metadata": {
  "kernelspec": {
   "display_name": "website-GhAoXCCn",
   "language": "python",
   "name": "python3"
  },
  "language_info": {
   "codemirror_mode": {
    "name": "ipython",
    "version": 3
   },
   "file_extension": ".py",
   "mimetype": "text/x-python",
   "name": "python",
   "nbconvert_exporter": "python",
   "pygments_lexer": "ipython3",
   "version": "3.10.14"
  }
 },
 "nbformat": 4,
 "nbformat_minor": 2
}
