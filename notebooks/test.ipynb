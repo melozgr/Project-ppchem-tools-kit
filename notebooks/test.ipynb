{
 "cells": [
  {
   "cell_type": "code",
   "execution_count": 1,
   "metadata": {},
   "outputs": [],
   "source": [
    "#%gui tk\n",
    "%matplotlib inline\n",
    "\n",
    "from Chem_pack.module import *\n",
    "from Chem_pack.smiles_to_molar_mass import smiles_to_molar_mass\n",
    "from Chem_pack.name_to_smiles import name_to_smiles\n",
    "from Chem_pack.display_molecule import display_molecule\n",
    "\n",
    "\n",
    "rdDepictor.SetPreferCoordGen(True)\n",
    "set_matplotlib_formats('png', 'pdf')\n",
    "plt.rcParams['font.family'] = 'Times New Roman'\n",
    "import sys\n",
    "sys.path.insert(0, \"../src\")\n",
    "#from \"src/name_to_smiles\" import name_to_smiles\n",
    "\n",
    "\n",
    "set_matplotlib_formats('png', 'pdf')\n",
    "plt.rcParams['font.family'] = 'Times New Roman'\n",
    "\n",
    "OUTPUT_PATH = Path(os.getcwd())\n",
    "ASSETS_PATH = OUTPUT_PATH / Path(\"../assets/frame0\")"
   ]
  },
  {
   "cell_type": "code",
   "execution_count": 2,
   "metadata": {},
   "outputs": [],
   "source": [
    "\n",
    "entry_input = None\n",
    "selected_radio = None\n",
    "window = None\n",
    "graph_window = None\n",
    "mol_window = None\n",
    "x_label = None\n",
    "y_label = None\n",
    "title = None\n",
    "result_text = None\n",
    "\n",
    "\n",
    "# Attachez le gestionnaire d'événements à la fenêtre principale\n",
    "if window:\n",
    "    window.bind(\"<KeyPress>\", bind_enter)\n",
    "\n",
    "# Avant de détruire la fenêtre principale, détacher les gestionnaires d'événements\n",
    "\n",
    "\n"
   ]
  },
  {
   "cell_type": "code",
   "execution_count": 3,
   "metadata": {},
   "outputs": [
    {
     "name": "stderr",
     "output_type": "stream",
     "text": [
      "2024-05-16 17:49:19.673 python[7359:248791] +[CATransaction synchronize] called within transaction\n",
      "2024-05-16 17:49:19.915 python[7359:248791] +[CATransaction synchronize] called within transaction\n"
     ]
    },
    {
     "name": "stdout",
     "output_type": "stream",
     "text": [
      "Error: name 'entry_input' is not defined\n"
     ]
    },
    {
     "name": "stderr",
     "output_type": "stream",
     "text": [
      "2024-05-16 17:49:28.212 python[7359:248791] +[CATransaction synchronize] called within transaction\n",
      "2024-05-16 17:49:28.360 python[7359:248791] +[CATransaction synchronize] called within transaction\n"
     ]
    },
    {
     "name": "stdout",
     "output_type": "stream",
     "text": [
      "Error: name 'entry_input' is not defined\n"
     ]
    },
    {
     "name": "stderr",
     "output_type": "stream",
     "text": [
      "Exception in Tkinter callback\n",
      "Traceback (most recent call last):\n",
      "  File \"/Users/gruenbergsebastien/anaconda3/envs/my-rdkit-env/lib/python3.10/tkinter/__init__.py\", line 1921, in __call__\n",
      "    return self.func(*args)\n",
      "  File \"/Users/gruenbergsebastien/Project-ppchem-tools-kit/src/Chem_pack/module.py\", line 448, in process_input\n",
      "    if selected_radio.get() == \"1\":\n",
      "NameError: name 'selected_radio' is not defined\n",
      "2024-05-16 17:49:32.810 python[7359:248791] +[CATransaction synchronize] called within transaction\n",
      "2024-05-16 17:49:32.916 python[7359:248791] +[CATransaction synchronize] called within transaction\n"
     ]
    },
    {
     "name": "stdout",
     "output_type": "stream",
     "text": [
      "Error: name 'entry_input' is not defined\n"
     ]
    },
    {
     "ename": "",
     "evalue": "",
     "output_type": "error",
     "traceback": [
      "\u001b[1;31mThe Kernel crashed while executing code in the current cell or a previous cell. \n",
      "\u001b[1;31mPlease review the code in the cell(s) to identify a possible cause of the failure. \n",
      "\u001b[1;31mClick <a href='https://aka.ms/vscodeJupyterKernelCrash'>here</a> for more info. \n",
      "\u001b[1;31mView Jupyter <a href='command:jupyter.viewOutput'>log</a> for further details."
     ]
    }
   ],
   "source": [
    "\n",
    "window = tk.Tk()  #creates a Tkinter window instance\n",
    "\n",
    "x_axis_label = tk.StringVar()\n",
    "y_axis_label = tk.StringVar()\n",
    "graph_title = tk.StringVar()\n",
    "\n",
    "window.title(\"Project Tools-Kit\")\n",
    "input_type = tk.IntVar() #creates a Tkinter IntVar variable, which is used to track the value of the selected input type. In this case, it's initialized to 1\n",
    "input_type.set(1)\n",
    "\n",
    "def welcome_message():\n",
    "    global entry_input\n",
    "    welcome_window = tk.Toplevel(window)\n",
    "    welcome_window.title(\"Welcome Message\")\n",
    "\n",
    "    welcome_text = (\n",
    "        \"Welcome!\\n\\n\"\n",
    "        \"Here is our project: https://github.com/sgrunber/Project-ppchem-tools-kit\\n\\n\"\n",
    "        \"Enjoy ;)\"\n",
    "    )\n",
    "    welcome_textbox = tk.Text(welcome_window, wrap=\"word\", font=(\"Times New Roman\", 25), fg=\"#BBE1FA\", bg = \"#1B262C\", height=7, width=45)\n",
    "    welcome_textbox.insert(\"1.0\", welcome_text)\n",
    "    welcome_textbox.config(state=\"disabled\")\n",
    "    welcome_textbox.grid(row=0, column=0, padx=0, pady=0)\n",
    "\n",
    "\n",
    "window.geometry(\"1000x800\")\n",
    "window.configure(bg = \"#1B262C\")\n",
    "\n",
    "canvas = Canvas(window, bg=\"#1B262C\", height=800, width=1000, bd=0, highlightthickness=0, relief=\"ridge\")\n",
    "canvas.place(x=0, y=0)\n",
    "\n",
    "canvas.create_text(12.0, 194.0, anchor=\"nw\", text=\"Choose Input Type :\", fill=\"#BBE1FA\", font=(\"Times New Roman\", 27, \"bold\"))\n",
    "\n",
    "\n",
    "canvas.create_text(92.0, 378.0, anchor=\"nw\",text=\"Input :\", fill=\"#BBE1FA\", font=(\"Times New Roman\", 30, \"bold\"))\n",
    "entry_input = Entry(bd=1, bg=\"#0F4C75\", fg=\"#BBE1FA\", highlightthickness=0, font=(\"Times New Roman\", 25))\n",
    "entry_input.place(x=272.5, y=368.0, width=605.0, height=74.0)\n",
    "\n",
    "button_image_browse = PhotoImage(file=relative_to_assets(\"button_browse.png\", ASSETS_PATH)) \n",
    "button_browse = Button(image=button_image_browse, borderwidth=0, highlightthickness=0, command=browse_excel_file, relief=\"flat\")\n",
    "button_browse.place(x=409.0, y=500.0, width=154.2904052734375, height=60.0)\n",
    "\n",
    "button_image_process = PhotoImage(file=relative_to_assets(\"button_process.png\", ASSETS_PATH))\n",
    "button_process = Button(image=button_image_process, borderwidth=0, highlightthickness=0, command=process_input, relief=\"flat\")\n",
    "button_process.place(x=394.5, y=620.0, width=182.0, height=73.0)\n",
    "\n",
    "button_image_title = PhotoImage(file=relative_to_assets(\"button_title.png\", ASSETS_PATH))\n",
    "button_title = Button(image=button_image_title, borderwidth=0, highlightthickness=0, command=welcome_message, relief=\"flat\")\n",
    "button_title.place(x=273.0, y=36.0, width=455.0, height=90.0)\n",
    "\n",
    "\n",
    "\n",
    "logo_image = PhotoImage(file=relative_to_assets('12.png', ASSETS_PATH))\n",
    "logo_label = tk.Label(window, image=logo_image)\n",
    "logo_label.place(x=10.0, y=10.0, width=150.0, height=60.0)\n",
    "\n",
    "clock_label = tk.Label(window, text=\"\", font=(\"Times New Roman\", 20), bg=\"#1B262C\", fg=\"#BBE1FA\")\n",
    "clock_label.place(x=900, y=10)\n",
    "\n",
    "\n",
    "\n",
    "def clear_input():  #defined to clear the content of the input field \n",
    "    entry_input.delete(0, tk.END)\n",
    "    \n",
    "def on_radio_select(value): #defined to update the selected_radio variable with the selected value and clear the content of the input field \n",
    "    selected_radio.set(value)\n",
    "    clear_input()\n",
    "\n",
    "def create_radio_button(x, y, text, value):    #defined to create a radio button with the specified text and value at the given position (x, y)\n",
    "    radio_button = tk.Radiobutton(canvas, text=text, variable=selected_radio, value=value,\n",
    "                                  command=lambda: on_radio_select(value),\n",
    "                                  font=(\"Times New Roman\", 20), bg=\"#1B262C\")\n",
    "    canvas.create_window(x, y, anchor=\"nw\", window=radio_button)\n",
    "\n",
    "radio_button_data = [\n",
    "    (291, 194, \"Molecule Name\", \"1\"),\n",
    "    (291, 252, \"Excel Graph\", \"3\"),\n",
    "    (700, 194, \"Linear Regression\", \"4\"), \n",
    "    (700, 252, \"Show Molecule\", \"5\"),\n",
    "    (469, 252, \"Error calculation\", \"6\"),\n",
    "    (469, 194, \"Molecular weight\", \"2\")\n",
    "]  \n",
    "\n",
    "selected_radio = tk.StringVar(value=\"none\")\n",
    "for data in radio_button_data:\n",
    "    create_radio_button(*data)\n",
    "\n",
    "\n",
    "#canvas.bind('<Return>', bind_enter)\n",
    "\n",
    "def update_clock():\n",
    "    current_time = datetime.now().strftime('%H:%M:%S')\n",
    "    current_date = datetime.now().strftime('%Y-%m-%d')\n",
    "    clock_label.config(text=current_time)\n",
    "    date_label.config(text=current_date)\n",
    "    window.after(1000, update_clock)\n",
    "\n",
    "date_label = tk.Label(window, text=\"\", font=(\"Times New Roman\", 20), bg=\"#1B262C\", fg=\"#FFFFFF\")\n",
    "date_label.place(x=890, y=10)\n",
    "\n",
    "clock_label = tk.Label(window, text=\"\", font=(\"Times New Roman\", 20), bg=\"#1B262C\", fg=\"#FFFFFF\")\n",
    "clock_label.place(x=890, y=40)\n",
    "\n",
    "update_clock()\n",
    "\n",
    "window.unbind_all(\"<Return>\")\n",
    "\n",
    "def on_closing():\n",
    "    global window\n",
    "    if messagebox.askokcancel(\"Quitter\", \"Êtes-vous sûr de vouloir quitter ?\"):\n",
    "        window.destroy()\n",
    "window.protocol(\"WM_DELETE_WINDOW\", on_closing)\n",
    "\n",
    "window.resizable(False, False)\n",
    "\n",
    "window.bind(\"<Return>\", process_input)\n",
    "\n",
    "window.mainloop()\n"
   ]
  },
  {
   "cell_type": "code",
   "execution_count": 5,
   "metadata": {},
   "outputs": [
    {
     "data": {
      "text/plain": [
       "PosixPath('/Users/gruenbergsebastien/Project-ppchem-tools-kit/notebooks/../Project-ppchem-tools-kit/assets/frame0/button_browse.png')"
      ]
     },
     "execution_count": 5,
     "metadata": {},
     "output_type": "execute_result"
    }
   ],
   "source": [
    "relative_to_assets(\"button_browse.png\")"
   ]
  },
  {
   "cell_type": "code",
   "execution_count": 7,
   "metadata": {},
   "outputs": [
    {
     "name": "stdout",
     "output_type": "stream",
     "text": [
      "/Users/gruenbergsebastien/Project-ppchem-tools-kit/notebooks/../assets/frame0/button_browse.png\n"
     ]
    }
   ],
   "source": [
    "!ls /Users/gruenbergsebastien/Project-ppchem-tools-kit/notebooks/../assets/frame0/button_browse.png"
   ]
  },
  {
   "cell_type": "markdown",
   "metadata": {},
   "source": []
  }
 ],
 "metadata": {
  "kernelspec": {
   "display_name": "website-GhAoXCCn",
   "language": "python",
   "name": "python3"
  },
  "language_info": {
   "codemirror_mode": {
    "name": "ipython",
    "version": 3
   },
   "file_extension": ".py",
   "mimetype": "text/x-python",
   "name": "python",
   "nbconvert_exporter": "python",
   "pygments_lexer": "ipython3",
   "version": "3.10.14"
  }
 },
 "nbformat": 4,
 "nbformat_minor": 2
}
