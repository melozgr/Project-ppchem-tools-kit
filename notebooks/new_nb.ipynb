{
 "cells": [
  {
   "cell_type": "code",
   "execution_count": null,
   "metadata": {},
   "outputs": [],
   "source": [
    "import matplotlib.pyplot as plt\n",
    "from Chem_pack.module import *\n",
    "\n",
    "\n",
    "set_matplotlib_formats('png', 'pdf')\n",
    "plt.rcParams['font.family'] = 'Times New Roman'\n",
    "import sys\n",
    "sys.path.insert(0, \"../src\")\n",
    "#from \"src/name_to_smiles\" import name_to_smiles\n",
    "\n",
    "from Chem_pack.smiles_to_molar_mass import smiles_to_molar_mass\n",
    "from Chem_pack.name_to_smiles import name_to_smiles\n",
    "from Chem_pack.display_molecule import display_molecule\n",
    "\n",
    "\n",
    "\n",
    "set_matplotlib_formats('png', 'pdf')\n",
    "plt.rcParams['font.family'] = 'Times New Roman'\n",
    "\n",
    "\n",
    "OUTPUT_PATH = Path(os.getcwd())\n",
    "ASSETS_PATH = OUTPUT_PATH / Path(\"../assets/frame0\")\n"
   ]
  }
 ],
 "metadata": {
  "kernelspec": {
   "display_name": "website-GhAoXCCn",
   "language": "python",
   "name": "python3"
  },
  "language_info": {
   "codemirror_mode": {
    "name": "ipython",
    "version": 3
   },
   "file_extension": ".py",
   "mimetype": "text/x-python",
   "name": "python",
   "nbconvert_exporter": "python",
   "pygments_lexer": "ipython3",
   "version": "3.10.14"
  }
 },
 "nbformat": 4,
 "nbformat_minor": 2
}
