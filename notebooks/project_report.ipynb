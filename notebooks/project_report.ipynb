{
 "cells": [
  {
   "cell_type": "markdown",
   "metadata": {},
   "source": [
    "<h1 align=\"center\" style=\"font-size: 3.5em; text-decoration: underline;\">✨ Tools Kit ✨</h1>\n",
    "<p align=\"center\">\n",
    "<a href=\"https://schwallergroup.github.io/practical-programming-in-chemistry/\"><img src=\"https://img.shields.io/badge/PPCHEM-3776AB.svg?style=for-the-badge&logo=python&logoColor=white\" alt=\"PPCHEM\"></a>\n",
    " </p>\n",
    "\n",
    "## 📋 Project Context\n",
    "    \n",
    "Lorem ipsum dolor sit amet, consectetur adipiscing elit. Sed dictum consectetur lectus, vitae tincidunt urna accumsan vel. Nunc in enim nulla. Vestibulum eget lorem nec nisi lobortis feugiat. Nullam lacinia pharetra lorem, vitae hendrerit dui fermentum nec. Sed non felis nec justo posuere interdum. Integer euismod magna nec dui vehicula, id fermentum orci hendrerit. Integer scelerisque nec urna vel lacinia. Vivamus convallis, dui a euismod lacinia, ex enim tincidunt magna, vitae suscipit lacus enim non nisi. Curabitur id justo justo. Nunc accumsan eget arcu at rhoncus. Etiam at sapien vel odio scelerisque fermentum. Sed tincidunt, justo a ultricies malesuada, sem justo consequat tellus, et ultricies elit arcu ac lorem. Ut auctor purus nec libero sodales, quis consectetur eros hendrerit. Vivamus varius semper neque, at tincidunt neque sollicitudin at.\n",
    "\n",
    "## ⚔️ Challenge Faced\n",
    "\n",
    "Lorem ipsum dolor sit amet, consectetur adipiscing elit. Sed dictum consectetur lectus, vitae tincidunt urna accumsan vel. Nunc in enim nulla. Vestibulum eget lorem nec nisi lobortis feugiat. Nullam lacinia pharetra lorem, vitae hendrerit dui fermentum nec. Sed non felis nec justo posuere interdum. Integer euismod magna nec dui vehicula, id fermentum orci hendrerit. Integer scelerisque nec urna vel lacinia. Vivamus convallis, dui a euismod lacinia, ex enim tincidunt magna, vitae suscipit lacus enim non nisi. Curabitur id justo justo. Nunc accumsan eget arcu at rhoncus. Etiam at sapien vel odio scelerisque fermentum. Sed tincidunt, justo a ultricies malesuada, sem justo consequat tellus, et ultricies elit arcu ac lorem. Ut auctor purus nec libero sodales, quis consectetur eros hendrerit. Vivamus varius semper neque, at tincidunt neque sollicitudin at.\n",
    "\n"
   ]
  },
  {
   "cell_type": "markdown",
   "metadata": {},
   "source": [
    "import\n"
   ]
  },
  {
   "cell_type": "code",
   "execution_count": 29,
   "metadata": {},
   "outputs": [],
   "source": [
    "%matplotlib inline\n",
    "import tkinter as tk\n",
    "from tkinter import messagebox, filedialog, Canvas, Entry, Button, PhotoImage\n",
    "from rdkit.Chem import rdDepictor\n",
    "import sys\n",
    "import matplotlib.pyplot as plt\n",
    "from matplotlib_inline.backend_inline import set_matplotlib_formats\n",
    "from datetime import datetime\n"
   ]
  },
  {
   "cell_type": "markdown",
   "metadata": {},
   "source": [
    "setup"
   ]
  },
  {
   "cell_type": "code",
   "execution_count": 30,
   "metadata": {},
   "outputs": [],
   "source": [
    "sys.path.insert(0, \"../src\")\n",
    "rdDepictor.SetPreferCoordGen(True)\n",
    "set_matplotlib_formats('png', 'pdf')\n",
    "plt.rcParams['font.family'] = 'Times New Roman'"
   ]
  },
  {
   "cell_type": "markdown",
   "metadata": {},
   "source": [
    "## 🧪 Features\n",
    "\n",
    " ### 1. 🧬 Molecule Name\n",
    "   - Input: Raw formula of the molecule\n",
    "   - Output: SMILES of the molecule\n",
    "\n",
    "Lorem ipsum dolor sit amet, consectetur adipiscing elit. Sed dictum consectetur lectus, vitae tincidunt urna accumsan vel. Nunc in enim nulla. Vestibulum eget lorem nec nisi lobortis feugiat. Nullam lacinia pharetra lorem, vitae hendrerit dui fermentum nec. Sed non felis nec justo posuere interdum. Integer euismod magna nec dui vehicula, id fermentum orci hendrerit. Integer scelerisque nec urna vel lacinia. Vivamus convallis, dui a euismod lacinia, ex enim tincidunt magna, vitae suscipit lacus enim non nisi. Curabitur id justo justo. Nunc accumsan eget arcu at rhoncus. Etiam at sapien vel odio scelerisque fermentum. Sed tincidunt, justo a ultricies malesuada, sem justo consequat tellus, et ultricies elit arcu ac lorem. Ut auctor purus nec libero sodales, quis consectetur eros hendrerit. Vivamus varius semper neque, at tincidunt neque sollicitudin at.\n",
    "### 2. ⚖️ Molecular Weight\n",
    "   - Input: SMILES of the molecule\n",
    "   - Output: Corresponding molar mass in g/mol\n",
    "\n",
    "Lorem ipsum dolor sit amet, consectetur adipiscing elit. Sed dictum consectetur lectus, vitae tincidunt urna accumsan vel. Nunc in enim nulla. Vestibulum eget lorem nec nisi lobortis feugiat. Nullam lacinia pharetra lorem, vitae hendrerit dui fermentum nec. Sed non felis nec justo posuere interdum. Integer euismod magna nec dui vehicula, id fermentum orci hendrerit. Integer scelerisque nec urna vel lacinia. Vivamus convallis, dui a euismod lacinia, ex enim tincidunt magna, vitae suscipit lacus enim non nisi. Curabitur id justo justo. Nunc accumsan eget arcu at rhoncus. Etiam at sapien vel odio scelerisque fermentum. Sed tincidunt, justo a ultricies malesuada, sem justo consequat tellus, et ultricies elit arcu ac lorem. Ut auctor purus nec libero sodales, quis consectetur eros hendrerit. Vivamus varius semper neque, at tincidunt neque sollicitudin at.\n",
    "\n",
    "### 3. 📈 Linear Regression\n",
    "   - Input: Excel document (imported by pressing the Browse button)\n",
    "   - Output: Linear regression graph with the R<sup>2</sup> value\n",
    "        - Options: The graph allows customization of various parameters such as changing scales, axis labels, title, displaying maximum values, enabling gridlines, adjusting line types and colors, modifying grid and label axes, and background color.\n",
    "\n",
    "Lorem ipsum dolor sit amet, consectetur adipiscing elit. Sed dictum consectetur lectus, vitae tincidunt urna accumsan vel. Nunc in enim nulla. Vestibulum eget lorem nec nisi lobortis feugiat. Nullam lacinia pharetra lorem, vitae hendrerit dui fermentum nec. Sed non felis nec justo posuere interdum. Integer euismod magna nec dui vehicula, id fermentum orci hendrerit. Integer scelerisque nec urna vel lacinia. Vivamus convallis, dui a euismod lacinia, ex enim tincidunt magna, vitae suscipit lacus enim non nisi. Curabitur id justo justo. Nunc accumsan eget arcu at rhoncus. Etiam at sapien vel odio scelerisque fermentum. Sed tincidunt, justo a ultricies malesuada, sem justo consequat tellus, et ultricies elit arcu ac lorem. Ut auctor purus nec libero sodales, quis consectetur eros hendrerit. Vivamus varius semper neque, at tincidunt neque sollicitudin at.\n",
    "\n",
    "### 4. 📊 Graph Maker\n",
    "   - Input: Excel document with x and y values arranged in two columns\n",
    "   - Output: Graph plotting all values\n",
    "      - Options: The graph allows customization of various parameters such as changing scales, axis labels, title, displaying maximum values, enabling gridlines, adjusting line types and colors, modifying grid and label axes, and background color.\n",
    "\n",
    "Lorem ipsum dolor sit amet, consectetur adipiscing elit. Sed dictum consectetur lectus, vitae tincidunt urna accumsan vel. Nunc in enim nulla. Vestibulum eget lorem nec nisi lobortis feugiat. Nullam lacinia pharetra lorem, vitae hendrerit dui fermentum nec. Sed non felis nec justo posuere interdum. Integer euismod magna nec dui vehicula, id fermentum orci hendrerit. Integer scelerisque nec urna vel lacinia. Vivamus convallis, dui a euismod lacinia, ex enim tincidunt magna, vitae suscipit lacus enim non nisi. Curabitur id justo justo. Nunc accumsan eget arcu at rhoncus. Etiam at sapien vel odio scelerisque fermentum. Sed tincidunt, justo a ultricies malesuada, sem justo consequat tellus, et ultricies elit arcu ac lorem. Ut auctor purus nec libero sodales, quis consectetur eros hendrerit. Vivamus varius semper neque, at tincidunt neque sollicitudin at.\n",
    "\n",
    "### 5. 🧮 Error Propagation\n",
    "   - Input: Variables, their values, and their uncertainties.\n",
    "   - Output: Mean value, its uncertainty, and the result can be copied as LaTeX code for easy inclusion in documents.\n",
    "\n",
    "Lorem ipsum dolor sit amet, consectetur adipiscing elit. Sed dictum consectetur lectus, vitae tincidunt urna accumsan vel. Nunc in enim nulla. Vestibulum eget lorem nec nisi lobortis feugiat. Nullam lacinia pharetra lorem, vitae hendrerit dui fermentum nec. Sed non felis nec justo posuere interdum. Integer euismod magna nec dui vehicula, id fermentum orci hendrerit. Integer scelerisque nec urna vel lacinia. Vivamus convallis, dui a euismod lacinia, ex enim tincidunt magna, vitae suscipit lacus enim non nisi. Curabitur id justo justo. Nunc accumsan eget arcu at rhoncus. Etiam at sapien vel odio scelerisque fermentum. Sed tincidunt, justo a ultricies malesuada, sem justo consequat tellus, et ultricies elit arcu ac lorem. Ut auctor purus nec libero sodales, quis consectetur eros hendrerit. Vivamus varius semper neque, at tincidunt neque sollicitudin at.\n",
    "\n",
    "### 6. 🔬 Show Molecule\n",
    "   - Input: SMILES\n",
    "   - Output: Molecular structure\n",
    "\n",
    "Lorem ipsum dolor sit amet, consectetur adipiscing elit. Sed dictum consectetur lectus, vitae tincidunt urna accumsan vel. Nunc in enim nulla. Vestibulum eget lorem nec nisi lobortis feugiat. Nullam lacinia pharetra lorem, vitae hendrerit dui fermentum nec. Sed non felis nec justo posuere interdum. Integer euismod magna nec dui vehicula, id fermentum orci hendrerit. Integer scelerisque nec urna vel lacinia. Vivamus convallis, dui a euismod lacinia, ex enim tincidunt magna, vitae suscipit lacus enim non nisi. Curabitur id justo justo. Nunc accumsan eget arcu at rhoncus. Etiam at sapien vel odio scelerisque fermentum. Sed tincidunt, justo a ultricies malesuada, sem justo consequat tellus, et ultricies elit arcu ac lorem. Ut auctor purus nec libero sodales, quis consectetur eros hendrerit. Vivamus varius semper neque, at tincidunt neque sollicitudin at.\n"
   ]
  },
  {
   "cell_type": "markdown",
   "metadata": {},
   "source": [
    "import function\n"
   ]
  },
  {
   "cell_type": "code",
   "execution_count": 31,
   "metadata": {},
   "outputs": [],
   "source": [
    "from project_ppchem_tools_kit.smiles_to_molar_mass import smiles_to_molar_mass\n",
    "from project_ppchem_tools_kit.name_to_smiles import name_to_smiles\n",
    "from project_ppchem_tools_kit.display_molecule import display_molecule\n",
    "from project_ppchem_tools_kit.make_graph import make_graph\n",
    "from project_ppchem_tools_kit.linear_regression import linear_regression\n",
    "from project_ppchem_tools_kit.error_calculation_interface import error_calculation_interface\n",
    "from project_ppchem_tools_kit.relative_to_assets import relative_to_assets\n",
    "from project_ppchem_tools_kit.display_result import display_result\n",
    "from project_ppchem_tools_kit.welcome_message import welcome_message"
   ]
  },
  {
   "cell_type": "markdown",
   "metadata": {},
   "source": []
  },
  {
   "cell_type": "code",
   "execution_count": 32,
   "metadata": {},
   "outputs": [],
   "source": [
    "entry_input = None\n",
    "selected_radio = None\n",
    "window = None\n",
    "x_label = None\n",
    "y_label = None\n",
    "title = None\n",
    "result_text = None"
   ]
  },
  {
   "cell_type": "markdown",
   "metadata": {},
   "source": []
  },
  {
   "cell_type": "code",
   "execution_count": 33,
   "metadata": {},
   "outputs": [],
   "source": [
    "\n",
    "\n",
    "def process_input(event=None):\n",
    "    global selected_radio, x_label, y_label, title, result_text\n",
    "    if selected_radio.get() == \"1\":\n",
    "        smiles_molecule = name_to_smiles(entry_input.get().strip())\n",
    "        if smiles_molecule is not None:\n",
    "            result_text = f\"The SMILES for the molecule '{entry_input.get().strip()}' is: {smiles_molecule}\"\n",
    "        else:\n",
    "            result_text = f\"The molecule '{entry_input.get().strip()}' was not found in the PubChem database.\"\n",
    "    elif selected_radio.get() == \"2\":\n",
    "        molar_mass = smiles_to_molar_mass(entry_input.get().strip())\n",
    "        if molar_mass is not None:\n",
    "            result_text = f\"The molar mass of the molecule is: {molar_mass} g/mol\"\n",
    "        else:\n",
    "            result_text = \"Invalid SMILES or molecule not found.\"\n",
    "    elif selected_radio.get() in [\"3\", \"4\"]:\n",
    "        if selected_radio.get() == \"3\":\n",
    "            make_graph(entry_input, x_label, y_label, title)\n",
    "        else:\n",
    "            linear_regression(entry_input, x_label, y_label, title)\n",
    "        return \n",
    "    elif selected_radio.get() == \"5\":  \n",
    "        display_molecule(entry_input)  \n",
    "        return \n",
    "    elif selected_radio.get() == \"6\":\n",
    "        error_calculation_interface()\n",
    "    else:\n",
    "        result_text = \"Please select an input type.\"\n",
    "\n",
    "    display_result(result_text)"
   ]
  },
  {
   "cell_type": "markdown",
   "metadata": {},
   "source": []
  },
  {
   "cell_type": "code",
   "execution_count": 34,
   "metadata": {},
   "outputs": [],
   "source": [
    "def browse_excel_file():\n",
    "    global entry_input\n",
    "    filepath = filedialog.askopenfilename(title=\"Select Excel File\", filetypes=((\"Excel files\", \"*.xlsx\"), (\"All files\", \"*.*\")))\n",
    "    if filepath:\n",
    "        try:\n",
    "            entry_input.delete(0, tk.END)  \n",
    "            entry_input.insert(0, filepath)  \n",
    "            print(\"Selected Excel file:\", filepath)\n",
    "            print(\"File path copied to clipboard.\")\n",
    "        except Exception as e:\n",
    "            print(\"Error:\", e)\n",
    "\n",
    "def clear_input(): \n",
    "    \"\"\"Clears the content of the input field in the GUI.\n",
    "    \"\"\"\n",
    "    entry_input.delete(0, tk.END)"
   ]
  },
  {
   "cell_type": "markdown",
   "metadata": {},
   "source": []
  },
  {
   "cell_type": "code",
   "execution_count": 35,
   "metadata": {},
   "outputs": [],
   "source": [
    "window = tk.Tk()  \n",
    "\n",
    "x_axis_label = tk.StringVar()\n",
    "y_axis_label = tk.StringVar()\n",
    "graph_title = tk.StringVar()\n",
    "\n",
    "window.title(\"Project Tools-Kit\")\n",
    "input_type = tk.IntVar() \n",
    "input_type.set(1)\n",
    "\n",
    "window.geometry(\"1000x800\")\n",
    "window.configure(bg = \"#1B262C\")\n",
    "\n",
    "canvas = Canvas(window, bg=\"#1B262C\", height=800, width=1000, bd=0, highlightthickness=0, relief=\"ridge\")\n",
    "canvas.place(x=0, y=0)\n",
    "\n",
    "canvas.create_text(12.0, 194.0, anchor=\"nw\", text=\"Choose Input Type :\", fill=\"#BBE1FA\", font=(\"Times New Roman\", 27, \"bold\"))\n",
    "\n",
    "canvas.create_text(92.0, 378.0, anchor=\"nw\",text=\"Input :\", fill=\"#BBE1FA\", font=(\"Times New Roman\", 30, \"bold\"))\n",
    "entry_input = Entry(bd=1, bg=\"#0F4C75\", fg=\"#BBE1FA\", highlightthickness=0, font=(\"Times New Roman\", 25))\n",
    "entry_input.place(x=272.5, y=368.0, width=605.0, height=74.0)\n",
    "\n",
    "button_image_browse = PhotoImage(file=relative_to_assets(\"button_browse.png\")) \n",
    "button_browse = Button(image=button_image_browse, borderwidth=0, highlightthickness=0, command=browse_excel_file, relief=\"flat\")\n",
    "button_browse.place(x=409.0, y=500.0, width=154.2904052734375, height=60.0)\n",
    "\n",
    "button_image_process = PhotoImage(file=relative_to_assets(\"button_process.png\"))\n",
    "button_process = Button(image=button_image_process, borderwidth=0, highlightthickness=0, command=process_input, relief=\"flat\")\n",
    "button_process.place(x=394.5, y=620.0, width=182.0, height=73.0)\n",
    "\n",
    "button_image_title = PhotoImage(file=relative_to_assets(\"button_title.png\"))\n",
    "button_title = Button(image=button_image_title, borderwidth=0, highlightthickness=0, command=welcome_message, relief=\"flat\")\n",
    "button_title.place(x=273.0, y=36.0, width=455.0, height=90.0)\n",
    "\n",
    "\n",
    "\n",
    "logo_image = PhotoImage(file=relative_to_assets('EPFL_logo.png'))\n",
    "logo_label = tk.Label(window, image=logo_image)\n",
    "logo_label.place(x=10.0, y=10.0, width=150.0, height=60.0)\n"
   ]
  },
  {
   "cell_type": "markdown",
   "metadata": {},
   "source": []
  },
  {
   "cell_type": "code",
   "execution_count": 36,
   "metadata": {},
   "outputs": [],
   "source": [
    "def clear_input(): \n",
    "    entry_input.delete(0, tk.END)"
   ]
  },
  {
   "cell_type": "markdown",
   "metadata": {},
   "source": []
  },
  {
   "cell_type": "code",
   "execution_count": 37,
   "metadata": {},
   "outputs": [],
   "source": [
    "def on_radio_select(value):\n",
    "    selected_radio.set(value)\n",
    "    clear_input()"
   ]
  },
  {
   "cell_type": "markdown",
   "metadata": {},
   "source": []
  },
  {
   "cell_type": "code",
   "execution_count": 38,
   "metadata": {},
   "outputs": [],
   "source": [
    "def create_radio_button(x, y, text, value):  \n",
    "    radio_button = tk.Radiobutton(canvas, text=text, variable=selected_radio, value=value,\n",
    "                                  command=lambda: on_radio_select(value),\n",
    "                                  font=(\"Times New Roman\", 20), bg=\"#1B262C\")\n",
    "    canvas.create_window(x, y, anchor=\"nw\", window=radio_button)"
   ]
  },
  {
   "cell_type": "markdown",
   "metadata": {},
   "source": []
  },
  {
   "cell_type": "code",
   "execution_count": 39,
   "metadata": {},
   "outputs": [],
   "source": [
    "radio_button_data = [(291, 194, \"Molecule Name\", \"1\"),(291, 252, \"Excel Graph\", \"3\"),(700, 194, \"Linear Regression\", \"4\"), (700, 252, \"Show Molecule\", \"5\"),(469, 252, \"Error calculation\", \"6\"),(469, 194, \"Molecular weight\", \"2\")]  \n",
    "selected_radio = tk.StringVar(value=\"none\")\n",
    "for data in radio_button_data:\n",
    "    create_radio_button(*data)"
   ]
  },
  {
   "cell_type": "markdown",
   "metadata": {},
   "source": []
  },
  {
   "cell_type": "code",
   "execution_count": 40,
   "metadata": {},
   "outputs": [],
   "source": [
    "def update_clock():\n",
    "    current_time = datetime.now().strftime('%H:%M:%S')\n",
    "    current_date = datetime.now().strftime('%Y-%m-%d')\n",
    "    clock_label.config(text=current_time)\n",
    "    date_label.config(text=current_date)\n",
    "    window.after(1000, update_clock)\n",
    "\n",
    "date_label = tk.Label(window, text=\"\", font=(\"Times New Roman\", 20), bg=\"#1B262C\", fg=\"#FFFFFF\")\n",
    "date_label.place(x=890, y=10)\n",
    "\n",
    "clock_label = tk.Label(window, text=\"\", font=(\"Times New Roman\", 20), bg=\"#1B262C\", fg=\"#FFFFFF\")\n",
    "clock_label.place(x=890, y=40)\n",
    "update_clock()"
   ]
  },
  {
   "cell_type": "markdown",
   "metadata": {},
   "source": []
  },
  {
   "cell_type": "code",
   "execution_count": 41,
   "metadata": {},
   "outputs": [
    {
     "data": {
      "text/plain": [
       "''"
      ]
     },
     "execution_count": 41,
     "metadata": {},
     "output_type": "execute_result"
    }
   ],
   "source": [
    "def on_closing():\n",
    "    global window\n",
    "    if messagebox.askokcancel(\"Quit\", \"Are you sure you want to quit?\"):\n",
    "        window.destroy()\n",
    "window.protocol(\"WM_DELETE_WINDOW\", on_closing)"
   ]
  },
  {
   "cell_type": "code",
   "execution_count": 42,
   "metadata": {},
   "outputs": [],
   "source": [
    "window.bind(\"<Return>\", process_input)\n",
    "\n",
    "window.mainloop()"
   ]
  },
  {
   "attachments": {},
   "cell_type": "markdown",
   "metadata": {},
   "source": []
  }
 ],
 "metadata": {
  "kernelspec": {
   "display_name": "website-GhAoXCCn",
   "language": "python",
   "name": "python3"
  },
  "language_info": {
   "codemirror_mode": {
    "name": "ipython",
    "version": 3
   },
   "file_extension": ".py",
   "mimetype": "text/x-python",
   "name": "python",
   "nbconvert_exporter": "python",
   "pygments_lexer": "ipython3",
   "version": "3.10.14"
  }
 },
 "nbformat": 4,
 "nbformat_minor": 2
}
