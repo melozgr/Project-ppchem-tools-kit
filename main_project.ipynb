{
 "cells": [
  {
   "attachments": {},
   "cell_type": "markdown",
   "metadata": {},
   "source": [
    "The following code converts the molecule's molecular formula into its SMILEs code."
   ]
  },
  {
   "cell_type": "code",
   "execution_count": 9,
   "metadata": {},
   "outputs": [
    {
     "name": "stdout",
     "output_type": "stream",
     "text": [
      "The SMILES for the molecule C6H8O7 is: C(C(=O)O)C(CC(=O)O)(C(=O)O)O\n"
     ]
    }
   ],
   "source": [
    "import pubchempy as pcp\n",
    "\n",
    "def name_to_smiles(molecule_name, max_attempts=3):\n",
    "    attempts = 0\n",
    "    while attempts < max_attempts:\n",
    "        try:\n",
    "            compound = pcp.get_compounds(molecule_name, 'name')\n",
    "            return compound[0].canonical_smiles if compound else None\n",
    "        except pcp.PubChemHTTPError:\n",
    "            attempts += 1\n",
    "    return None\n",
    "\n",
    "# Input molecule name\n",
    "molecule_name = input(\"Enter the molecule's name: \")\n",
    "\n",
    "smiles_molecule = name_to_smiles(molecule_name)\n",
    "\n",
    "if smiles_molecule is not None:\n",
    "    print(\"The SMILES for the molecule\", molecule_name, \"is:\", smiles_molecule)\n",
    "else:\n",
    "    print(\"The SMILES for the molecule\", molecule_name, \"was not found.\")"
   ]
  },
  {
   "attachments": {},
   "cell_type": "markdown",
   "metadata": {},
   "source": [
    "The following code takes the SMILES code of the molecule as input and outputs the molar mass."
   ]
  },
  {
   "cell_type": "code",
   "execution_count": null,
   "metadata": {},
   "outputs": [],
   "source": [
    "from rdkit import Chem\n",
    "from rdkit.Chem import Descriptors\n",
    "\n",
    "def smiles_to_molar_mass(smiles):\n",
    "    mol = Chem.MolFromSmiles(smiles)\n",
    "    if mol is not None:\n",
    "        return Descriptors.ExactMolWt(mol)\n",
    "    else:\n",
    "        return None\n",
    "\n",
    "# Input SMILES of the molecule\n",
    "smiles_molecule = input(\"Enter the SMILES of the molecule: \")\n",
    "\n",
    "molar_mass = smiles_to_molar_mass(smiles_molecule)\n",
    "\n",
    "if molar_mass is not None:\n",
    "    print(\"The molar mass of the molecule is:\", molar_mass)\n",
    "else:\n",
    "    print(\"Error: Invalid SMILES or molecule not found.\")"
   ]
  }
 ],
 "metadata": {
  "kernelspec": {
   "display_name": "my-rdkit-env",
   "language": "python",
   "name": "python3"
  },
  "language_info": {
   "codemirror_mode": {
    "name": "ipython",
    "version": 3
   },
   "file_extension": ".py",
   "mimetype": "text/x-python",
   "name": "python",
   "nbconvert_exporter": "python",
   "pygments_lexer": "ipython3",
   "version": "3.10.14"
  },
  "orig_nbformat": 4,
  "vscode": {
   "interpreter": {
    "hash": "b89e91e7e950994cf7e8abd78a0ffc844c2240f5a69756e364888c37cf0752ad"
   }
  }
 },
 "nbformat": 4,
 "nbformat_minor": 2
}
