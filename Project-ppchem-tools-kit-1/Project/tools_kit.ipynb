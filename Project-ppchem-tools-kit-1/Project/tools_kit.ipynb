{
 "cells": [
  {
   "attachments": {},
   "cell_type": "markdown",
   "metadata": {},
   "source": [
    "The following code converts the molecule's molecular formula into its SMILEs code."
   ]
  },
  {
   "cell_type": "code",
   "execution_count": null,
   "metadata": {},
   "outputs": [],
   "source": [
    "def name_to_smiles(molecule_name, max_attempts=3):\n",
    "    attempts = 0\n",
    "    while attempts < max_attempts:\n",
    "        try:\n",
    "            compound = pcp.get_compounds(molecule_name, 'name')\n",
    "            return compound[0].canonical_smiles if compound else None\n",
    "        except pcp.PubChemHTTPError:\n",
    "            attempts += 1\n",
    "    return None\n",
    "\n",
    "# Input molecule name\n",
    "molecule_name = input(\"Enter the molecule's name: \")\n",
    "\n",
    "smiles_molecule = name_to_smiles(molecule_name)\n",
    "\n",
    "if smiles_molecule is not None:\n",
    "    print(\"The SMILES for the molecule\", molecule_name, \"is:\", smiles_molecule)\n",
    "else:\n",
    "    print(\"The SMILES for the molecule\", molecule_name, \"was not found.\")\" et \"import threading\n",
    "import pubchempy as pcp"
   ]
  },
  {
   "attachments": {},
   "cell_type": "markdown",
   "metadata": {},
   "source": [
    "The following code takes the SMILEs code of the molecule as input and outputs the molar mass."
   ]
  },
  {
   "cell_type": "code",
   "execution_count": 4,
   "metadata": {},
   "outputs": [
    {
     "name": "stdout",
     "output_type": "stream",
     "text": [
      "Collecting rdkit\n",
      "  Obtaining dependency information for rdkit from https://files.pythonhosted.org/packages/7a/8a/73957722ece84d4a294a58261abf8f888980890ea27d39b9d2b5abd6395e/rdkit-2023.9.6-cp311-cp311-macosx_10_13_x86_64.whl.metadata\n",
      "  Downloading rdkit-2023.9.6-cp311-cp311-macosx_10_13_x86_64.whl.metadata (3.9 kB)\n",
      "Requirement already satisfied: numpy in /Users/gruenbergsebastien/anaconda3/lib/python3.11/site-packages (from rdkit) (1.24.3)\n",
      "Requirement already satisfied: Pillow in /Users/gruenbergsebastien/anaconda3/lib/python3.11/site-packages (from rdkit) (10.2.0)\n",
      "Downloading rdkit-2023.9.6-cp311-cp311-macosx_10_13_x86_64.whl (28.7 MB)\n",
      "\u001b[2K   \u001b[90m━━━━━━━━━━━━━━━━━━━━━━━━━━━━━━━━━━━━━━━━\u001b[0m \u001b[32m28.7/28.7 MB\u001b[0m \u001b[31m12.1 MB/s\u001b[0m eta \u001b[36m0:00:00\u001b[0m00:01\u001b[0m00:01\u001b[0m\n",
      "\u001b[?25hInstalling collected packages: rdkit\n",
      "Successfully installed rdkit-2023.9.6\n",
      "The molar mass of the molecule is: 18.010564684\n"
     ]
    }
   ],
   "source": [
    "!pip install rdkit\n",
    "from rdkit import Chem\n",
    "from rdkit.Chem import Descriptors\n",
    "\n",
    "def smiles_to_molar_mass(smiles):\n",
    "    mol = Chem.MolFromSmiles(smiles)\n",
    "    if mol is not None:\n",
    "        return Descriptors.ExactMolWt(mol)\n",
    "    else:\n",
    "        return None\n",
    "\n",
    "# Input SMILES of the molecule\n",
    "smiles_molecule = input(\"Enter the SMILES of the molecule: \")\n",
    "\n",
    "molar_mass = smiles_to_molar_mass(smiles_molecule)\n",
    "\n",
    "if molar_mass is not None:\n",
    "    print(\"The molar mass of the molecule is:\", molar_mass)\n",
    "else:\n",
    "    print(\"Error: Invalid SMILES or molecule not found.\")"
   ]
  }
 ],
 "metadata": {
  "kernelspec": {
   "display_name": "base",
   "language": "python",
   "name": "python3"
  },
  "language_info": {
   "codemirror_mode": {
    "name": "ipython",
    "version": 3
   },
   "file_extension": ".py",
   "mimetype": "text/x-python",
   "name": "python",
   "nbconvert_exporter": "python",
   "pygments_lexer": "ipython3",
   "version": "3.11.5"
  },
  "orig_nbformat": 4,
  "vscode": {
   "interpreter": {
    "hash": "e8da8e752764dca47569d477438b2ec581811a669b515a775ffa18a1460c961e"
   }
  }
 },
 "nbformat": 4,
 "nbformat_minor": 2
}
