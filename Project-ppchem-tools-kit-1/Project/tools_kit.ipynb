{
 "cells": [
  {
   "attachments": {},
   "cell_type": "markdown",
   "metadata": {},
   "source": [
    "The following code converts the molecule's molecular formula into its SMILEs code."
   ]
  },
  {
   "cell_type": "code",
   "execution_count": 1,
   "metadata": {},
   "outputs": [
    {
     "name": "stdout",
     "output_type": "stream",
     "text": [
      "The SMILES for the molecule 'C6H12O6' is: C(C1C(C(C(C(O1)O)O)O)O)O\n"
     ]
    }
   ],
   "source": [
    "import pubchempy as pcp\n",
    "\n",
    "def name_to_smiles(molecule_name):\n",
    "    try:\n",
    "        compound = pcp.get_compounds(molecule_name, 'name')\n",
    "        if compound:\n",
    "            return compound[0].canonical_smiles\n",
    "        else:\n",
    "            return None\n",
    "    except pcp.PubChemHTTPError as e:\n",
    "        print(\"Error occurred while fetching data from PubChem:\", e)\n",
    "        return None\n",
    "\n",
    "def main():\n",
    "    # Input molecule name\n",
    "    molecule_name = input(\"Enter the molecule's name: \")\n",
    "\n",
    "    # Get SMILES code for the molecule\n",
    "    smiles_molecule = name_to_smiles(molecule_name)\n",
    "\n",
    "    # Print result\n",
    "    if smiles_molecule is not None:\n",
    "        print(\"The SMILES for the molecule '{}' is: {}\".format(molecule_name, smiles_molecule))\n",
    "    else:\n",
    "        print(\"The molecule '{}' was not found in the PubChem database.\".format(molecule_name))\n",
    "\n",
    "if __name__ == \"__main__\":\n",
    "    main()"
   ]
  },
  {
   "attachments": {},
   "cell_type": "markdown",
   "metadata": {},
   "source": [
    "The following code takes the SMILEs code of the molecule as input and outputs the molar mass."
   ]
  },
  {
   "cell_type": "code",
   "execution_count": 2,
   "metadata": {},
   "outputs": [
    {
     "name": "stdout",
     "output_type": "stream",
     "text": [
      "The molar mass of the molecule is: 180.063388104\n"
     ]
    }
   ],
   "source": [
    "\n",
    "from rdkit import Chem\n",
    "from rdkit.Chem import Descriptors\n",
    "\n",
    "def smiles_to_molar_mass(smiles):\n",
    "    mol = Chem.MolFromSmiles(smiles)\n",
    "    if mol is not None:\n",
    "        return Descriptors.ExactMolWt(mol)\n",
    "    else:\n",
    "        return None\n",
    "\n",
    "# Input SMILES of the molecule\n",
    "smiles_molecule = input(\"Enter the SMILES of the molecule: \")\n",
    "\n",
    "molar_mass = smiles_to_molar_mass(smiles_molecule)\n",
    "\n",
    "if molar_mass is not None:\n",
    "    print(\"The molar mass of the molecule is:\", molar_mass)\n",
    "else:\n",
    "    print(\"Error: Invalid SMILES or molecule not found.\")"
   ]
  }
 ],
 "metadata": {
  "kernelspec": {
   "display_name": "base",
   "language": "python",
   "name": "python3"
  },
  "language_info": {
   "codemirror_mode": {
    "name": "ipython",
    "version": 3
   },
   "file_extension": ".py",
   "mimetype": "text/x-python",
   "name": "python",
   "nbconvert_exporter": "python",
   "pygments_lexer": "ipython3",
   "version": "3.10.14"
  },
  "orig_nbformat": 4,
  "vscode": {
   "interpreter": {
    "hash": "e8da8e752764dca47569d477438b2ec581811a669b515a775ffa18a1460c961e"
   }
  }
 },
 "nbformat": 4,
 "nbformat_minor": 2
}
